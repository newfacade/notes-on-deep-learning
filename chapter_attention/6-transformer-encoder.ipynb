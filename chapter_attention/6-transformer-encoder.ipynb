{
 "cells": [
  {
   "cell_type": "markdown",
   "metadata": {},
   "source": [
    "# Transformer Encoder\n",
    "\n",
    "```{note}\n",
    "Transformer作为编码器-解码器结构的一个实例，它完全基于注意力机制，核心是多头注意力，其整体结构图如下图所示。<br/>\n",
    "前面几节，我们介绍了Transformer的各个组件，本节我们要用这些组件来构建 Transformer Encoder.\n",
    "```\n",
    "\n",
    "![jupyter](../images/attention/transformer.svg)"
   ]
  },
  {
   "cell_type": "markdown",
   "metadata": {},
   "source": [
    "## 编码器 Block\n",
    "\n",
    "下面的`EncoderBlock`类实现了示意图左边的虚线框，它包含两个子层：多头注意力和基于位置的前馈网络，这两个子层都使用了残差连接和紧随的层归一化。"
   ]
  },
  {
   "cell_type": "code",
   "execution_count": 1,
   "metadata": {},
   "outputs": [],
   "source": [
    "import torch\n",
    "from torch import nn\n",
    "import d2l\n",
    "import math\n",
    "\n",
    "\n",
    "class EncoderBlock(nn.Module):\n",
    "    def __init__(self, key_size, query_size, value_size, num_hiddens,\n",
    "                 norm_shape, ffn_num_hiddens, num_heads, \n",
    "                 dropout, use_bias=False):\n",
    "        super(EncoderBlock, self).__init__()\n",
    "        # key_size=query_size=value_size in Transformer\n",
    "        # 多头注意力\n",
    "        # num_hiddens应能整除num_heads，每个头的宽度为 num_hiddens//num_heads，W_o: num_hiddens -> num_hiddens\n",
    "        self.attention = d2l.MultiHeadAttention(key_size, query_size,\n",
    "                                                value_size, num_hiddens,\n",
    "                                                num_heads, dropout, use_bias)\n",
    "        # 第一个add&norm\n",
    "        self.addnorm1 = d2l.AddNorm(norm_shape, dropout)\n",
    "        # positionwiseFFN\n",
    "        self.ffn = d2l.PositionWiseFFN(num_hiddens, ffn_num_hiddens)\n",
    "        # 第二个add&norm\n",
    "        self.addnorm2 = d2l.AddNorm(norm_shape, dropout)\n",
    "\n",
    "    def forward(self, X, valid_lens):\n",
    "        # `X` shape: (`batch_size`, `num_steps`, `num_hiddens`)\n",
    "        # `valid_lens` shape: None or (`batch_size`,) or (`batch_size`, `num_steps`)\n",
    "        # 第一个子层\n",
    "        # 在attention后被mask的的位置正常计算，但除了layerNorm外都是每个位置独立计算\n",
    "        Y = self.addnorm1(X, self.attention(X, X, X, valid_lens))\n",
    "        # 第二个子层，形状不变\n",
    "        return self.addnorm2(Y, self.ffn(Y))"
   ]
  },
  {
   "cell_type": "markdown",
   "metadata": {},
   "source": [
    "## 编码器"
   ]
  },
  {
   "cell_type": "code",
   "execution_count": 2,
   "metadata": {},
   "outputs": [],
   "source": [
    "class TransformerEncoder(d2l.Encoder):\n",
    "    \"\"\"Transformer的编码器\"\"\"\n",
    "    def __init__(self, vocab_size, num_hiddens, \n",
    "                 norm_shape, ffn_num_hiddens, num_heads, \n",
    "                 num_layers, dropout, use_bias=False):\n",
    "        super(TransformerEncoder, self).__init__()\n",
    "        self.num_hiddens = num_hiddens\n",
    "        # Embedding将输入从`vocab_size`变为`num_hiddens`\n",
    "        self.embedding = nn.Embedding(vocab_size, num_hiddens)\n",
    "        # 位置编码\n",
    "        self.pos_encoding = d2l.PositionalEncoding(num_hiddens, dropout)\n",
    "        # 各个EncoderBlock\n",
    "        self.blks = nn.Sequential()\n",
    "        for i in range(num_layers):\n",
    "            self.blks.add_module(\n",
    "                \"block\" + str(i),\n",
    "                EncoderBlock(num_hiddens, num_hiddens, num_hiddens, num_hiddens,\n",
    "                             norm_shape, ffn_num_hiddens, num_heads, \n",
    "                             dropout, use_bias))\n",
    "\n",
    "    def forward(self, X, valid_lens):\n",
    "        # X shape: (`batch_size`, `num_steps`, `vocab_size`)\n",
    "        # 因为位置编码值在-1到1之间，因此需要进行平方根缩放，保持它们在一个量级\n",
    "        X = self.pos_encoding(self.embedding(X) * math.sqrt(self.num_hiddens))\n",
    "        # valid_lens在每个block都生效\n",
    "        for blk in self.blks:\n",
    "            X = blk(X, valid_lens)\n",
    "        return X"
   ]
  }
 ],
 "metadata": {
  "kernelspec": {
   "display_name": "Python 3 (ipykernel)",
   "language": "python",
   "name": "python3"
  },
  "language_info": {
   "codemirror_mode": {
    "name": "ipython",
    "version": 3
   },
   "file_extension": ".py",
   "mimetype": "text/x-python",
   "name": "python",
   "nbconvert_exporter": "python",
   "pygments_lexer": "ipython3",
   "version": "3.9.17"
  }
 },
 "nbformat": 4,
 "nbformat_minor": 4
}
