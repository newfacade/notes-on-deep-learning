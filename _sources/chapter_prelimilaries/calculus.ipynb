{
 "cells": [
  {
   "cell_type": "markdown",
   "metadata": {},
   "source": [
    "# Calculus\n",
    "\n",
    "```{note}\n",
    "Differential calculus can tell us how to increase or decrease a function's value by manipulating its arguments. This comes in handy for the optimization problems that we face in deep learning, where we repeatedly update our parameters in order to decrease the loss function.\n",
    "```"
   ]
  },
  {
   "cell_type": "markdown",
   "metadata": {},
   "source": [
    "## Derivatives and Differentiation\n",
    "\n",
    "Put simply, a derivative is the rate of change in a function with respect to changes in its arguments. For function $f:\\mathbb{R}\\to\\mathbb{R}$\n",
    "\n",
    "$$f'(x) = \\lim_{h \\rightarrow 0} \\frac{f(x+h) - f(x)}{h}.$$\n",
    "\n",
    "When $f'(x)$ exits, $f$ is said to be differentiable at $x$.\n",
    "\n",
    "Suppose that $y=f(g(x))$ and that the underlying functions $y=f(u)$ and $u=g(x)$ are both differentiable. The chain rule states that\n",
    "\n",
    "$$\\frac{dy}{dx} = \\frac{dy}{du}\\frac{du}{dx}.$$"
   ]
  },
  {
   "cell_type": "markdown",
   "metadata": {},
   "source": [
    "## Partial Derivatives\n",
    "\n",
    "Let $y = f(x_1, x_2, \\ldots, x_n)$ be a function with $n$ variables. The partial derivative of $y$ with respect to $x_{i}$ is\n",
    "\n",
    "$$ \\frac{\\partial y}{\\partial x_i} = \\lim_{h \\rightarrow 0} \\frac{f(x_1, \\ldots, x_{i-1}, x_i+h, x_{i+1}, \\ldots, x_n) - f(x_1, \\ldots, x_i, \\ldots, x_n)}{h}.$$\n",
    "\n",
    "We can treat $x_1, \\ldots, x_{i-1}, x_{i+1}, \\ldots, x_n$ as constants \n",
    "and calculate the derivative of $y$ with respect to $x_i$. "
   ]
  },
  {
   "cell_type": "markdown",
   "metadata": {},
   "source": [
    "## 向量求导\n",
    "\n",
    "我们使用常用的分子布局符号，即分子 shape 不变分母转置。<br>\n",
    "标量关于向量（列）的导数是一个`行向量`：\n",
    "$$\\mathbf{x} = \\left[ x_{1}, x_{2}, \\ldots, x_{n} \\right]^{T}\\in\\mathbb{R}^{n\\times 1}$$\n",
    "$$\\frac{\\partial{y}}{\\partial\\mathbf{x}}=\\left[\n",
    "  \\frac{\\partial y}{\\partial x_{1}}, \\frac{\\partial y}{\\partial x_{2}}, \\ldots  ,\\frac{\\partial y}{\\partial x_{n}}\n",
    "\\right]\\in\\mathbb{R}^{1\\times n}$$\n",
    "\n",
    "向量（列）关于标量的导数是一个列向量：\n",
    "\n",
    "$$\\mathbf{y} = \\left[ y_{1}, y_{2}, \\ldots, y_{m} \\right]^{T}\\in\\mathbb{R}^{m\\times 1}$$\n",
    "$$\\frac{\\partial{\\mathbf{y}}}{\\partial{x}}=\\left[\n",
    "  \\frac{\\partial y_{1}}{\\partial x}, \\frac{\\partial y_{2}}{\\partial x},\\ldots ,\\frac{\\partial y_{m}}{\\partial x}\n",
    "\\right]^{T}\\in\\mathbb{R}^{m\\times 1}$$\n",
    "\n",
    "向量（列）关于向量（列）的导数是一个矩阵：\n",
    "$$\\mathbf{x} = \\left[ x_{1}, x_{2}, \\ldots, x_{n} \\right]^{T}\\in\\mathbb{R}^{n\\times 1}$$\n",
    "$$\\mathbf{y} = \\left[ y_{1}, y_{2}, \\ldots, y_{m} \\right]^{T}\\in\\mathbb{R}^{m\\times 1}$$\n",
    "$$\\frac{\\partial{\\mathbf{y}}}{\\partial\\mathbf{x}}=\\left[\n",
    "  \\frac{\\partial y_{1}}{\\partial \\mathbf{x}}, \\frac{\\partial y_{2}}{\\partial \\mathbf{x}},\\ldots ,\\frac{\\partial y_{m}}{\\partial \\mathbf{x}}\n",
    "\\right]^{T}\\in\\mathbb{R}^{m\\times n}$$\n",
    "\n",
    "在这种布局下，链式法则对向量求导也成立。"
   ]
  },
  {
   "cell_type": "markdown",
   "metadata": {},
   "source": [
    "## 常用的求导结果\n",
    "\n",
    "$$\\frac{\\partial \\text{sum}(\\mathbf{x})}{\\partial \\mathbf{x}} = \\mathbf{1}^{T}$$\n",
    "$$\\frac{\\partial \\left \\| \\mathbf{x} \\right \\| ^{2}}{\\partial \\mathbf{x}} = 2\\mathbf{x}^{T}$$\n",
    "$$\\frac{\\partial \\mathbf{x}}{\\partial \\mathbf{x}} = \\mathbf{I}$$\n",
    "$$\\frac{\\partial A\\mathbf{x}}{\\partial \\mathbf{x}} = \\mathbf{A}$$\n",
    "\n",
    "例.（线性回归）假设$\\mathbf{X}\\in\\mathbb{R}^{m\\times{n}}, \\mathbf{w}\\in\\mathbb{R}^{n}, \\mathbf{y}\\in\\mathbb{R}^{m}$，损失函数$z=\\left \\|\\mathbf{X}\\mathbf{w}-\\mathbf{y}  \\right \\|^{2} $，求$\\frac{\\partial{z}}{\\partial{\\mathbf{w}}}$\n",
    "\n",
    "\\begin{equation*}\n",
    "\\begin{split}\n",
    "\\frac{\\partial{z}}{\\partial{\\mathbf{w}}} &= \\frac{\\partial{\\left \\|\\mathbf{X}\\mathbf{w}-\\mathbf{y}  \\right \\|^{2}}}{\\partial{\\mathbf{X}\\mathbf{w}-\\mathbf{y}}}\\frac{\\partial{\\mathbf{X}\\mathbf{w}-\\mathbf{y}}}{\\partial{\\mathbf{X}\\mathbf{w}}}\\frac{\\partial{\\mathbf{X}\\mathbf{w}}}{\\partial{\\mathbf{w}}}\\quad(\\mbox{链式法则})\\\\\n",
    "&= 2(\\mathbf{X}\\mathbf{w}-\\mathbf{y})^{T}\\mathbf{X}\n",
    "\\end{split}\n",
    "\\end{equation*}"
   ]
  },
  {
   "cell_type": "markdown",
   "metadata": {},
   "source": [
    "## 矩阵求导\n",
    "\n",
    "类似地，我们可以把导数扩展到矩阵：\n",
    "\n",
    "![image](../images/prelimilaries/diff.jpg)"
   ]
  }
 ],
 "metadata": {
  "kernelspec": {
   "display_name": "Python 3 (ipykernel)",
   "language": "python",
   "name": "python3"
  },
  "language_info": {
   "codemirror_mode": {
    "name": "ipython",
    "version": 3
   },
   "file_extension": ".py",
   "mimetype": "text/x-python",
   "name": "python",
   "nbconvert_exporter": "python",
   "pygments_lexer": "ipython3",
   "version": "3.9.17"
  }
 },
 "nbformat": 4,
 "nbformat_minor": 4
}
