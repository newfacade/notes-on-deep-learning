{
 "cells": [
  {
   "cell_type": "markdown",
   "metadata": {},
   "source": [
    "# Automatic Differentiation\n",
    "\n",
    "```{note}\n",
    "求导是几乎所有深度学习优化算法的关键步骤，我们可以使用PyTorch自动求导。\n",
    "```"
   ]
  },
  {
   "cell_type": "markdown",
   "metadata": {},
   "source": [
    "## 一个简单的例子\n",
    "\n",
    "考虑最简单的单层神经网络，输入是x，参数是w和b，并定义好损失函数："
   ]
  },
  {
   "cell_type": "code",
   "execution_count": 1,
   "metadata": {},
   "outputs": [],
   "source": [
    "import torch\n",
    "\n",
    "x = torch.ones(5)  # input tensor\n",
    "y = torch.zeros(3)  # expected output\n",
    "w = torch.randn(5, 3, requires_grad=True)\n",
    "b = torch.randn(3, requires_grad=True)\n",
    "z = torch.matmul(x, w) + b\n",
    "loss = torch.nn.functional.binary_cross_entropy_with_logits(z, y)"
   ]
  },
  {
   "cell_type": "markdown",
   "metadata": {},
   "source": [
    "autograd记录上述数据和操作流，构成一个有向无环图（DAG）：\n",
    "\n",
    "![image](../images/comp-graph.png)"
   ]
  },
  {
   "cell_type": "code",
   "execution_count": 2,
   "metadata": {},
   "outputs": [
    {
     "name": "stdout",
     "output_type": "stream",
     "text": [
      "Gradient function for z = <AddBackward0 object at 0x7fadc2038be0>\n",
      "Gradient function for loss = <BinaryCrossEntropyWithLogitsBackward object at 0x7fadc2038b50>\n"
     ]
    }
   ],
   "source": [
    "print('Gradient function for z =', z.grad_fn)\n",
    "print('Gradient function for loss =', loss.grad_fn)"
   ]
  },
  {
   "cell_type": "markdown",
   "metadata": {},
   "source": [
    "反向传播会给出`requires_grad=True`的叶子节点的梯度"
   ]
  },
  {
   "cell_type": "code",
   "execution_count": 3,
   "metadata": {},
   "outputs": [
    {
     "name": "stdout",
     "output_type": "stream",
     "text": [
      "tensor([[0.0007, 0.3254, 0.3100],\n",
      "        [0.0007, 0.3254, 0.3100],\n",
      "        [0.0007, 0.3254, 0.3100],\n",
      "        [0.0007, 0.3254, 0.3100],\n",
      "        [0.0007, 0.3254, 0.3100]])\n",
      "tensor([0.0007, 0.3254, 0.3100])\n"
     ]
    }
   ],
   "source": [
    "loss.backward()\n",
    "print(w.grad)\n",
    "print(b.grad)"
   ]
  },
  {
   "cell_type": "markdown",
   "metadata": {},
   "source": [
    "## 需要注意的点\n",
    "\n",
    "```{warning}\n",
    "一个计算图只能反向传播一次，除非在反向传播时设置`retain_graph=True`\n",
    "```\n",
    "\n",
    "比如说，现在执行以下操作会抛出异常\n",
    "\n",
    "```\n",
    "loss.backward()\n",
    "```\n",
    "\n",
    "```{warning}\n",
    "Pytorch会自动累计grad，除非手动清零\n",
    "```"
   ]
  },
  {
   "cell_type": "code",
   "execution_count": 4,
   "metadata": {},
   "outputs": [
    {
     "name": "stdout",
     "output_type": "stream",
     "text": [
      "tensor([[4., 2., 2.],\n",
      "        [2., 4., 2.],\n",
      "        [2., 2., 4.]])\n",
      "tensor([[8., 4., 4.],\n",
      "        [4., 8., 4.],\n",
      "        [4., 4., 8.]])\n",
      "tensor([[4., 2., 2.],\n",
      "        [2., 4., 2.],\n",
      "        [2., 2., 4.]])\n"
     ]
    }
   ],
   "source": [
    "inp = torch.eye(3, requires_grad=True)\n",
    "out = (inp + 1).pow(2)\n",
    "\n",
    "# 要进行多次backward需设置retain_graph=True\n",
    "out.backward(torch.ones_like(inp), retain_graph=True)\n",
    "print(inp.grad)\n",
    "\n",
    "# 累计grad\n",
    "out.backward(torch.ones_like(inp), retain_graph=True)\n",
    "print(inp.grad)\n",
    "\n",
    "# 清零grad\n",
    "inp.grad.zero_()\n",
    "out.backward(torch.ones_like(inp), retain_graph=True)\n",
    "print(inp.grad)"
   ]
  },
  {
   "cell_type": "markdown",
   "metadata": {},
   "source": [
    "```{note}\n",
    "Pytorch使用动态DAG，即在每次`.backward()`后，都会重新生成DAG，这使得我们可以在模型中使用Python控制流。\n",
    "```"
   ]
  },
  {
   "cell_type": "code",
   "execution_count": 5,
   "metadata": {},
   "outputs": [
    {
     "data": {
      "text/plain": [
       "tensor(1024.)"
      ]
     },
     "execution_count": 5,
     "metadata": {},
     "output_type": "execute_result"
    }
   ],
   "source": [
    "def func(a):\n",
    "    b = a * 2\n",
    "    while b.norm() < 1000:\n",
    "        b = b * 2\n",
    "    return b\n",
    "\n",
    "a = torch.randn(size=(), requires_grad=True)\n",
    "c = func(a)\n",
    "c.backward()\n",
    "a.grad"
   ]
  },
  {
   "cell_type": "markdown",
   "metadata": {},
   "source": [
    "## 禁用梯度跟踪\n",
    "\n",
    "有时，我们希望将某些计算移动到计算图之外，比如说：\n",
    "\n",
    "1. finetune时\n",
    "2. 预测时"
   ]
  },
  {
   "cell_type": "code",
   "execution_count": 6,
   "metadata": {},
   "outputs": [
    {
     "name": "stdout",
     "output_type": "stream",
     "text": [
      "True\n",
      "False\n"
     ]
    }
   ],
   "source": [
    "z = torch.matmul(x, w) + b\n",
    "print(z.requires_grad)\n",
    "\n",
    "with torch.no_grad():\n",
    "    z = torch.matmul(x, w) + b\n",
    "print(z.requires_grad)"
   ]
  },
  {
   "cell_type": "markdown",
   "metadata": {},
   "source": [
    "使用`.detach()`也可以达到同样的效果。"
   ]
  },
  {
   "cell_type": "code",
   "execution_count": 7,
   "metadata": {},
   "outputs": [
    {
     "name": "stdout",
     "output_type": "stream",
     "text": [
      "False\n"
     ]
    }
   ],
   "source": [
    "z = torch.matmul(x, w)+b\n",
    "z_det = z.detach()\n",
    "print(z_det.requires_grad)"
   ]
  }
 ],
 "metadata": {
  "kernelspec": {
   "display_name": "Python 3 (ipykernel)",
   "language": "python",
   "name": "python3"
  },
  "language_info": {
   "codemirror_mode": {
    "name": "ipython",
    "version": 3
   },
   "file_extension": ".py",
   "mimetype": "text/x-python",
   "name": "python",
   "nbconvert_exporter": "python",
   "pygments_lexer": "ipython3",
   "version": "3.9.17"
  }
 },
 "nbformat": 4,
 "nbformat_minor": 4
}
