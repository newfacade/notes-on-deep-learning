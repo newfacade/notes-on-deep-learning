{
 "cells": [
  {
   "cell_type": "markdown",
   "metadata": {},
   "source": [
    "# Transformer的其它组件\n",
    "\n",
    "```{note}\n",
    "下图是transformer的结构图，我们已经描述并实现了其中的多头注意力（Multi-head attention）和位置编码（Positional encoding）。<br/>\n",
    "本节我们来讲tranformer的另外的组件：基于位置的前馈网络（Positionwise FFN）、残差连接和层归一化（Add & norm）。\n",
    "```\n",
    "\n",
    "![jupyter](../images/attention/transformer.svg)"
   ]
  },
  {
   "cell_type": "markdown",
   "metadata": {},
   "source": [
    "## 基于位置的前馈网络\n",
    "\n",
    "即对序列中所有位置的表示进行变换时，使用的是同一个多层感知机（MLP）。"
   ]
  },
  {
   "cell_type": "code",
   "execution_count": 1,
   "metadata": {},
   "outputs": [],
   "source": [
    "import torch\n",
    "from torch import nn\n",
    "\n",
    "\n",
    "#@save\n",
    "class PositionWiseFFN(nn.Module):\n",
    "    \"\"\"基于位置的前馈网络\"\"\"\n",
    "    def __init__(self, ffn_num_input, ffn_num_hiddens):\n",
    "        super(PositionWiseFFN, self).__init__()\n",
    "        self.dense1 = nn.Linear(ffn_num_input, ffn_num_hiddens)\n",
    "        self.relu = nn.ReLU()\n",
    "        self.dense2 = nn.Linear(ffn_num_hiddens, ffn_num_input)\n",
    "\n",
    "    def forward(self, X):\n",
    "        # X shape: (`batch_size`, `num_steps`, `ffn_num_input`)\n",
    "        # 输入和输出的形状一样\n",
    "        return self.dense2(self.relu(self.dense1(X)))"
   ]
  },
  {
   "cell_type": "markdown",
   "metadata": {},
   "source": [
    "## 残差连接和层归一化\n",
    "\n",
    "此组件由残差连接和紧随其后的层归一化组成，两者都是构建有效的深度结构的关键。\n",
    "\n",
    "$$\\mathrm{LayerNorm}(x + \\mathrm{SubLayer}(x))$$\n",
    "\n",
    "层归一化和批量归一化（Batch Normalization）的目标相同，但层归一化的均值和方差在最后几个维度上进行计算。在自然语言处理任务中批量归一化通常不如层归一化效果好。"
   ]
  },
  {
   "cell_type": "markdown",
   "metadata": {},
   "source": [
    "### 2D输入"
   ]
  },
  {
   "cell_type": "code",
   "execution_count": 2,
   "metadata": {},
   "outputs": [],
   "source": [
    "# 输入num_features\n",
    "ln = nn.LayerNorm(3)\n",
    "bn = nn.BatchNorm1d(3)\n",
    "# shape: (`batch_size`, num_features)\n",
    "X = torch.tensor([[1, 2, 3], [4, 6, 8]], dtype=torch.float32)"
   ]
  },
  {
   "cell_type": "code",
   "execution_count": 3,
   "metadata": {},
   "outputs": [
    {
     "data": {
      "text/plain": [
       "(tensor([[-1.2247,  0.0000,  1.2247],\n",
       "         [-1.2247,  0.0000,  1.2247]], grad_fn=<NativeLayerNormBackward0>),\n",
       " tensor([[-1.2247,  0.0000,  1.2247],\n",
       "         [-1.2247,  0.0000,  1.2247]]))"
      ]
     },
     "execution_count": 3,
     "metadata": {},
     "output_type": "execute_result"
    }
   ],
   "source": [
    "# 层归一化计算每个样本的均值和方差\n",
    "ln(X), (X - X.mean(axis=1).reshape(-1, 1)) / X.std(axis=1, unbiased=False).reshape(-1, 1)"
   ]
  },
  {
   "cell_type": "code",
   "execution_count": 4,
   "metadata": {},
   "outputs": [
    {
     "data": {
      "text/plain": [
       "(tensor([[-1.0000, -1.0000, -1.0000],\n",
       "         [ 1.0000,  1.0000,  1.0000]], grad_fn=<NativeBatchNormBackward0>),\n",
       " tensor([[-1., -1., -1.],\n",
       "         [ 1.,  1.,  1.]]))"
      ]
     },
     "execution_count": 4,
     "metadata": {},
     "output_type": "execute_result"
    }
   ],
   "source": [
    "# 批量归一化计算每个特征的均值和方差\n",
    "bn(X), (X - X.mean(axis=0)) / X.std(axis=0, unbiased=False)"
   ]
  },
  {
   "cell_type": "markdown",
   "metadata": {},
   "source": [
    "## 3D输入"
   ]
  },
  {
   "cell_type": "code",
   "execution_count": 5,
   "metadata": {},
   "outputs": [],
   "source": [
    "batch, num_features, sentence_length = 2, 3, 4\n",
    "# 注意这里和 NLP 中常用的 (batch, sentence_length, num_features) 不同，这是为了满足 BatchNorm1d 的输入格式\n",
    "X = torch.randn(batch, num_features, sentence_length)\n",
    "# 输入除batch外的维度\n",
    "layer3d = nn.LayerNorm([3, 4])"
   ]
  },
  {
   "cell_type": "code",
   "execution_count": 6,
   "metadata": {},
   "outputs": [
    {
     "data": {
      "text/plain": [
       "(tensor([[[ 1.5608,  1.2644,  0.1408,  0.2393],\n",
       "          [-0.6965, -1.3973, -1.5091,  0.1032],\n",
       "          [ 1.0444,  0.8340, -0.5457, -1.0384]],\n",
       " \n",
       "         [[-0.0166, -1.9082,  0.0902, -1.1285],\n",
       "          [ 1.2292, -1.0437,  1.2204,  1.2079],\n",
       "          [-0.2656, -0.5193,  1.0890,  0.0453]]],\n",
       "        grad_fn=<NativeLayerNormBackward0>),\n",
       " tensor([[[ 1.5609,  1.2644,  0.1408,  0.2393],\n",
       "          [-0.6965, -1.3973, -1.5091,  0.1032],\n",
       "          [ 1.0444,  0.8340, -0.5457, -1.0384]],\n",
       " \n",
       "         [[-0.0166, -1.9082,  0.0902, -1.1286],\n",
       "          [ 1.2292, -1.0437,  1.2204,  1.2079],\n",
       "          [-0.2656, -0.5193,  1.0890,  0.0453]]]))"
      ]
     },
     "execution_count": 6,
     "metadata": {},
     "output_type": "execute_result"
    }
   ],
   "source": [
    "# 层归一化计算每个样本的均值和方差\n",
    "layer3d(X), (X - X.mean(axis=[1, 2]).reshape(-1, 1, 1)) / X.std(axis=[1, 2], unbiased=False).reshape(-1, 1, 1)"
   ]
  },
  {
   "cell_type": "code",
   "execution_count": 7,
   "metadata": {},
   "outputs": [
    {
     "data": {
      "text/plain": [
       "(tensor([[[ 1.2227,  0.7455, -1.0633, -0.9048],\n",
       "          [ 0.2767, -0.8100, -0.9834,  1.5167],\n",
       "          [ 1.0956,  0.8582, -0.6989, -1.2549]],\n",
       " \n",
       "         [[ 0.8769, -1.4135,  1.0062, -0.4695],\n",
       "          [ 0.5875, -1.7320,  0.5786,  0.5658],\n",
       "          [-0.5768, -0.9914,  1.6369, -0.0687]]],\n",
       "        grad_fn=<NativeLayerNormBackward0>),\n",
       " tensor([[[ 1.2227,  0.7455, -1.0633, -0.9048],\n",
       "          [ 0.2767, -0.8100, -0.9834,  1.5167],\n",
       "          [ 1.0956,  0.8582, -0.6989, -1.2549]],\n",
       " \n",
       "         [[ 0.8769, -1.4136,  1.0062, -0.4695],\n",
       "          [ 0.5875, -1.7320,  0.5786,  0.5658],\n",
       "          [-0.5769, -0.9914,  1.6370, -0.0687]]]))"
      ]
     },
     "execution_count": 7,
     "metadata": {},
     "output_type": "execute_result"
    }
   ],
   "source": [
    "# 只聚合一个维度\n",
    "layerLast = nn.LayerNorm(4)\n",
    "layerLast(X), (X - X.mean(axis=[2], keepdims=True)) / X.std(axis=[2], unbiased=False, keepdims=True)"
   ]
  },
  {
   "cell_type": "code",
   "execution_count": 8,
   "metadata": {},
   "outputs": [
    {
     "data": {
      "text/plain": [
       "(tensor([[[ 1.4244,  1.1652,  0.1826,  0.2687],\n",
       "          [-0.4652, -1.1100, -1.2129,  0.2706],\n",
       "          [ 1.3618,  1.0893, -0.6976, -1.3357]],\n",
       " \n",
       "         [[-0.1105, -1.8076, -0.0147, -1.1081],\n",
       "          [ 1.1729, -0.9728,  1.1646,  1.1528],\n",
       "          [-0.5735, -0.9105,  1.2265, -0.1603]]],\n",
       "        grad_fn=<NativeBatchNormBackward0>),\n",
       " tensor([[[ 1.4244,  1.1652,  0.1826,  0.2687],\n",
       "          [-0.4652, -1.1100, -1.2129,  0.2706],\n",
       "          [ 1.3618,  1.0893, -0.6976, -1.3357]],\n",
       " \n",
       "         [[-0.1105, -1.8076, -0.0147, -1.1081],\n",
       "          [ 1.1729, -0.9728,  1.1646,  1.1528],\n",
       "          [-0.5735, -0.9105,  1.2265, -0.1603]]]))"
      ]
     },
     "execution_count": 8,
     "metadata": {},
     "output_type": "execute_result"
    }
   ],
   "source": [
    "# batchNorm1d适用于输入为2d和3d的情况，它计算每个feature的均值和方差\n",
    "bn(X), (X - X.mean(axis=[0, 2]).reshape(1, -1, 1)) / X.std(axis=[0, 2], unbiased=False).reshape(1, -1, 1)"
   ]
  },
  {
   "cell_type": "markdown",
   "metadata": {},
   "source": [
    "### 实现"
   ]
  },
  {
   "cell_type": "code",
   "execution_count": 9,
   "metadata": {},
   "outputs": [],
   "source": [
    "#@save\n",
    "class AddNorm(nn.Module):\n",
    "    \"\"\"残差连接和层归一化\"\"\"\n",
    "    def __init__(self, normalized_shape, dropout):\n",
    "        super(AddNorm, self).__init__()\n",
    "        self.dropout = nn.Dropout(dropout)\n",
    "        # normalized_shape指定均值和方差计算的维度，需是后几个维度\n",
    "        self.ln = nn.LayerNorm(normalized_shape)\n",
    "\n",
    "    def forward(self, X, Y):\n",
    "        # 先残差连接，再层归一化\n",
    "        return self.ln(self.dropout(Y) + X)"
   ]
  },
  {
   "cell_type": "code",
   "execution_count": 10,
   "metadata": {},
   "outputs": [
    {
     "data": {
      "text/plain": [
       "torch.Size([2, 3, 4])"
      ]
     },
     "execution_count": 10,
     "metadata": {},
     "output_type": "execute_result"
    }
   ],
   "source": [
    "add_norm = AddNorm([3, 4], 0.5)\n",
    "add_norm.eval()\n",
    "# 形状不变\n",
    "add_norm(torch.ones((2, 3, 4)), torch.ones((2, 3, 4))).shape"
   ]
  }
 ],
 "metadata": {
  "kernelspec": {
   "display_name": "Python 3 (ipykernel)",
   "language": "python",
   "name": "python3"
  },
  "language_info": {
   "codemirror_mode": {
    "name": "ipython",
    "version": 3
   },
   "file_extension": ".py",
   "mimetype": "text/x-python",
   "name": "python",
   "nbconvert_exporter": "python",
   "pygments_lexer": "ipython3",
   "version": "3.9.17"
  }
 },
 "nbformat": 4,
 "nbformat_minor": 4
}