{
 "cells": [
  {
   "cell_type": "markdown",
   "id": "70f29f50-09bb-4dac-85e7-1b8d993a62e4",
   "metadata": {},
   "source": [
    "# Instruct GPT\n",
    "\n",
    "若直接使用 GPT3，跟人想要的结果 miss-alignment\n",
    "\n",
    "Instruct GPT 教 GPT 怎么生成人想要的结果。\n",
    "\n",
    "![](../images/nlp/instruct.png)"
   ]
  },
  {
   "cell_type": "markdown",
   "id": "46fa44cd-1863-4454-a0fd-5de842025b7e",
   "metadata": {},
   "source": [
    "一共分三步：\n",
    "\n",
    "1. 人写答案，GPT 在这上面做微调，得到 SFT （supervised fine-tune）\n",
    "2. SFT 生成一系列答案，标注人员对答案进行排序。以 SFT 为基础训练一个价值模型 RM，RM 最后的模型结构有一点不同，它会模仿人类进行打分。\n",
    "3. 基于 SFT 训练一个 RL 模型，它也会根据 prompt 生成文本，把这个文本放到 RM 模型里让它打分，基于打分反馈用PPO算法更新模型。\n",
    "\n",
    "RM 的 loss 为 pair-wise ranking loss:\n",
    "\n",
    "$$\\text{loss}(\\theta) = \\mathbb{E}_{(x,\\ y_{w},\\ y_{l})\\sim D}\\left[\\log(\\sigma(r_{\\theta}(x, y_{w}) - r_{\\theta}(x, y_{l})))\\right]$$\n",
    "\n",
    "其中标注人员认为 $y_{w}$ 比 $y_{l}$ 更好。\n",
    "\n",
    "PPO 模型 maximize the following combined objective function in RL training:\n",
    "\n",
    "$$\n",
    "\\begin{equation*}\n",
    "\\text{objective}(\\phi) = \\mathbb{E}_{(x, y)\\sim D_{\\pi_{\\phi}^{RL}}}\\left[r_{\\theta}(x, y) - \\beta\\log(\\pi_{\\phi}^{RL}(y|x)/\\pi_{\\phi}^{SFT}(y|x))\\right] + \\gamma\\mathbb{E}_{x\\sim D_{pretrain}}\\left[\\log(\\pi_{\\phi}^{RL}(x))\\right]\n",
    "\\end{equation*}\n",
    "$$\n",
    "\n",
    "其中：\n",
    "\n",
    "* 第一项 $r_{\\theta}(x, y)$ 是希望 RL 模型生成的答案在 RM 模型中分数高\n",
    "* 第二项的意思是，RM 模型是基于 SFT 模型的输出训练出来的，如果 RL 模型跑得太偏的话会 RM 模型的打分可能不适用了，这里计算的是两个分布的散度，越低越好\n",
    "* 第三项的意思是，RL 模型不仅要在 RM 模型中打分高，即生成人类觉得有价值的答案，也不要忘了语言模型目标导致它性能下降，这一步即 RLHF（reinforcement learning from human feedback）"
   ]
  },
  {
   "cell_type": "code",
   "execution_count": null,
   "id": "7680299d-36f2-41b8-af3f-1cc875b0d1ed",
   "metadata": {},
   "outputs": [],
   "source": []
  }
 ],
 "metadata": {
  "kernelspec": {
   "display_name": "Python 3 (ipykernel)",
   "language": "python",
   "name": "python3"
  },
  "language_info": {
   "codemirror_mode": {
    "name": "ipython",
    "version": 3
   },
   "file_extension": ".py",
   "mimetype": "text/x-python",
   "name": "python",
   "nbconvert_exporter": "python",
   "pygments_lexer": "ipython3",
   "version": "3.9.17"
  }
 },
 "nbformat": 4,
 "nbformat_minor": 5
}