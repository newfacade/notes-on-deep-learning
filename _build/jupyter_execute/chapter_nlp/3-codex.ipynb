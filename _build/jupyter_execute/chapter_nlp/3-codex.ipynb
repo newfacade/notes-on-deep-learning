{
 "cells": [
  {
   "cell_type": "markdown",
   "id": "e6e9d16d-d4f9-4f0a-8804-b8b878ce1eef",
   "metadata": {},
   "source": [
    "# CodeX"
   ]
  },
  {
   "cell_type": "markdown",
   "id": "f2d3799a-9077-48fb-a6c9-8d9bc284c434",
   "metadata": {},
   "source": [
    "## Eval\n",
    "\n",
    "生成 $n > k$ 个答案，若其中有 $c$ 个答案能通过单元测试，则\n",
    "\n",
    "$$\n",
    "\\text{pass}@k := \\mathbb{E}_{\\text{Problems}}\\left[1 - \\frac{\\binom{n-c}{k} }{\\binom{n}{k} }\\right]\n",
    "$$\n",
    "\n",
    "即选 $k$ 个答案其中至少有一个正确的概率。\n",
    "\n",
    "不能使用 BLEU score（比较子序列的重合度）。"
   ]
  },
  {
   "cell_type": "markdown",
   "id": "b53f5589-45f1-46b4-ad6f-ee511c7903fd",
   "metadata": {},
   "source": [
    "## 在代码上的微调\n",
    "\n",
    "使用 GPT3 模型，以 Github 公开的 Python 文件为数据集进行训练，会对空格回车等做特殊处理。\n",
    "\n",
    "这里我们从 GPT3 的参数开始微调，微调相比直接训练不会提升精度，但会加快收敛。\n",
    "\n",
    "训练器为 Adam。\n",
    "\n",
    "## Predict\n",
    "\n",
    "生成答案时什么时候停？when encounter: ‘nnclass’, ‘nndef’, ‘nn#’, ‘nnif’, or ‘nnprint’.\n",
    "\n",
    "采样方法：核采样，非 beam search，保留的词的概率 >= 95%\n",
    "\n",
    "温度 matters\n",
    "\n",
    "对答案进行排序：选概率均值最高的效果会比较好"
   ]
  },
  {
   "cell_type": "markdown",
   "id": "1cee61fd-94fd-4d7a-9187-966933d910b7",
   "metadata": {},
   "source": [
    "## 有监督的微调\n",
    "\n",
    "Github 上的训练数据集和 HumanEval 测试集很不一样。\n",
    "\n",
    "所以做了一个额外的训练集，里面的数据格式和 HumanEval 类似，可以提升性能。\n",
    "\n",
    "使用代码竞赛题目等，再过最大 CodeX 模型，如果100次至少有1次生成正确答案，就把问题留下。（说明太难或单元测试不正确）"
   ]
  },
  {
   "cell_type": "markdown",
   "id": "9da2a0e5-28e9-44c1-8de6-71c70ec570c7",
   "metadata": {},
   "source": [
    "## 使用代码生成 docstring\n",
    "\n",
    "Python 里：函数签名 -> docstring -> 函数实现\n",
    "\n",
    "所以为了完成这个任务，所以重新做了一个训练数据集，把顺序改成：函数签名 -> 函数实现 -> docstring，计算损失时只看 docstring 里的损失。\n",
    "\n",
    "评估不能用 HumanVal，而是用眼睛看对不对~ 还有一种方法就是用函数签名 + 生成的docstring 生成代码，看代码能不能过单元测试。"
   ]
  },
  {
   "cell_type": "code",
   "execution_count": null,
   "id": "1481c458-920c-4642-86bc-c14f04d097dd",
   "metadata": {},
   "outputs": [],
   "source": []
  }
 ],
 "metadata": {
  "kernelspec": {
   "display_name": "Python 3 (ipykernel)",
   "language": "python",
   "name": "python3"
  },
  "language_info": {
   "codemirror_mode": {
    "name": "ipython",
    "version": 3
   },
   "file_extension": ".py",
   "mimetype": "text/x-python",
   "name": "python",
   "nbconvert_exporter": "python",
   "pygments_lexer": "ipython3",
   "version": "3.9.17"
  }
 },
 "nbformat": 4,
 "nbformat_minor": 5
}